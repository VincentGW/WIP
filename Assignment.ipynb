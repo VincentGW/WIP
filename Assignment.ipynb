{
 "cells": [
  {
   "cell_type": "code",
   "execution_count": null,
   "metadata": {},
   "outputs": [],
   "source": [
    "import pandas as pd\n",
    "import matplotlib.pyplot as plt\n",
    "import os\n",
    "import re\n",
    "import gensim.downloader as api\n",
    "import nltk\n",
    "\n",
    "# Manage workspaces with Git\n",
    "current_directory = os.getcwd()\n",
    "directory = \"\"\n",
    "if current_directory[9:14] == 'vgwis':\n",
    "    directory = \"C:/Users/vgwis/Documents/Bana780/\"\n",
    "else:\n",
    "    directory = \"C:/Users/vgwcto/Documents/Python/Bana780/\"\n",
    "\n",
    "# Store API key locally\n",
    "api_key = pd.read_csv(directory + 'key.csv').columns[0]"
   ]
  }
 ],
 "metadata": {
  "kernelspec": {
   "display_name": "base",
   "language": "python",
   "name": "python3"
  },
  "language_info": {
   "codemirror_mode": {
    "name": "ipython",
    "version": 3
   },
   "file_extension": ".py",
   "mimetype": "text/x-python",
   "name": "python",
   "nbconvert_exporter": "python",
   "pygments_lexer": "ipython3",
   "version": "3.12.9"
  }
 },
 "nbformat": 4,
 "nbformat_minor": 2
}
